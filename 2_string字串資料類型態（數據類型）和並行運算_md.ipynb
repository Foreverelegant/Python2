{
  "nbformat": 4,
  "nbformat_minor": 0,
  "metadata": {
    "colab": {
      "name": "2_string字串資料類型態（數據類型）和並行運算.md.ipynb",
      "provenance": [],
      "collapsed_sections": [],
      "authorship_tag": "ABX9TyMBDj70QTVE+Bc/Z1JHZKYI",
      "include_colab_link": true
    },
    "kernelspec": {
      "name": "python3",
      "display_name": "Python 3"
    }
  },
  "cells": [
    {
      "cell_type": "markdown",
      "metadata": {
        "id": "view-in-github",
        "colab_type": "text"
      },
      "source": [
        "<a href=\"https://colab.research.google.com/github/Foreverelegant/Python2/blob/master/2_string%E5%AD%97%E4%B8%B2%E8%B3%87%E6%96%99%E9%A1%9E%E5%9E%8B%E6%85%8B%EF%BC%88%E6%95%B8%E6%93%9A%E9%A1%9E%E5%9E%8B%EF%BC%89%E5%92%8C%E4%B8%A6%E8%A1%8C%E9%81%8B%E7%AE%97_md.ipynb\" target=\"_parent\"><img src=\"https://colab.research.google.com/assets/colab-badge.svg\" alt=\"Open In Colab\"/></a>"
      ]
    },
    {
      "cell_type": "code",
      "metadata": {
        "id": "p-gDKoISofVV",
        "outputId": "b2ef0388-ed0c-49c3-b307-157caa08289c",
        "colab": {
          "base_uri": "https://localhost:8080/",
          "height": 68
        }
      },
      "source": [
        "#[1]string字串 資料型態(data type) \n",
        "#[2]string字串的運算\n",
        "#[3]Python内建的字串函数(Built-in String Methods)\n",
        "\n",
        "#Python 字串資料型態 (str) \n",
        "#變數值以一對雙引號「\"」或單引號 「'」\n",
        "\n",
        "str1 = '這是字串'\n",
        "print(str1)\n",
        "\n",
        "str2 = \"這也是字串\"\n",
        "print(str2)\n",
        "\n",
        "str3 = 'allows embedded \"double\" quotes'\n",
        "print(str3)"
      ],
      "execution_count": null,
      "outputs": [
        {
          "output_type": "stream",
          "text": [
            "這是字串\n",
            "這也是字串\n",
            "allows embedded \"double\" quotes\n"
          ],
          "name": "stdout"
        }
      ]
    },
    {
      "cell_type": "code",
      "metadata": {
        "id": "XjzgZnVeoiQ7",
        "outputId": "99002633-2f4d-4522-f0f4-06797a342869",
        "colab": {
          "base_uri": "https://localhost:8080/",
          "height": 51
        }
      },
      "source": [
        "#!/usr/bin/python\n",
        " \n",
        "var1 = 'Hello Python!'\n",
        " \n",
        "print(\"var1[0]: \", var1[0])\n",
        "print(\"var1[1:8]: \", var1[1:8])"
      ],
      "execution_count": null,
      "outputs": [
        {
          "output_type": "stream",
          "text": [
            "var1[0]:  H\n",
            "var1[1:8]:  ello Py\n"
          ],
          "name": "stdout"
        }
      ]
    },
    {
      "cell_type": "code",
      "metadata": {
        "id": "WU-em4vCoiko",
        "outputId": "9023738a-4c8c-4328-e797-d63b1f674714",
        "colab": {
          "base_uri": "https://localhost:8080/",
          "height": 68
        }
      },
      "source": [
        "#!/usr/bin/python\n",
        "# -*- coding: UTF-8 -*-\n",
        " \n",
        "str1 = 'Hello World!'\n",
        "\n",
        "print(\"更新前的字串-> \", str1[:])\n",
        "print(\"更新前的字串(也可以這樣寫)-> \", str1)\n",
        "print(\"更新後的字串-> \", str1[:6] + 'Python!')"
      ],
      "execution_count": null,
      "outputs": [
        {
          "output_type": "stream",
          "text": [
            "更新前的字串->  Hello World!\n",
            "更新前的字串(也可以這樣寫)->  Hello World!\n",
            "更新後的字串->  Hello Python!\n"
          ],
          "name": "stdout"
        }
      ]
    },
    {
      "cell_type": "code",
      "metadata": {
        "id": "UnpVLEiioiwQ",
        "outputId": "560d8fc2-cfd3-4d6a-9b21-1c1da49a1e18",
        "colab": {
          "base_uri": "https://localhost:8080/",
          "height": 34
        }
      },
      "source": [
        "str4=str1 + str2\n",
        "print(str4)"
      ],
      "execution_count": null,
      "outputs": [
        {
          "output_type": "stream",
          "text": [
            "Hello World!這也是字串\n"
          ],
          "name": "stdout"
        }
      ]
    },
    {
      "cell_type": "code",
      "metadata": {
        "id": "a7HtsH3foi7g",
        "outputId": "76bb1971-365f-4545-9b56-8221d8c6b656",
        "colab": {
          "base_uri": "https://localhost:8080/",
          "height": 34
        }
      },
      "source": [
        "a='  Hello   '\n",
        "b='  Python ! '\n",
        "\n",
        "a+b\n",
        "\n",
        "a*2\n",
        "\n",
        "a[1:4]\n",
        "\n",
        "\"H\" in a\n",
        "\n",
        "\"H\" not in a"
      ],
      "execution_count": null,
      "outputs": [
        {
          "output_type": "execute_result",
          "data": {
            "text/plain": [
              "False"
            ]
          },
          "metadata": {
            "tags": []
          },
          "execution_count": 5
        }
      ]
    },
    {
      "cell_type": "code",
      "metadata": {
        "id": "efYqNshporF4",
        "outputId": "fef6cfb6-d84a-4877-abd2-433fa2c66213",
        "colab": {
          "base_uri": "https://localhost:8080/",
          "height": 51
        }
      },
      "source": [
        "#使用循環\n",
        "# Python code to reverse a string  \n",
        "# using loop \n",
        "  \n",
        "def reverse(s): \n",
        "  str = \"\" \n",
        "  for i in s: \n",
        "    str = i + str\n",
        "  return str\n",
        "  \n",
        "s = \"Geeksforgeeks\"\n",
        "  \n",
        "print (\"The original string  is : \",end=\"\") \n",
        "print (s) \n",
        "  \n",
        "print (\"The reversed string(using loops) is : \",end=\"\") \n",
        "print (reverse(s)) "
      ],
      "execution_count": null,
      "outputs": [
        {
          "output_type": "stream",
          "text": [
            "The original string  is : Geeksforgeeks\n",
            "The reversed string(using loops) is : skeegrofskeeG\n"
          ],
          "name": "stdout"
        }
      ]
    },
    {
      "cell_type": "code",
      "metadata": {
        "id": "Xqp-vDYMorUo",
        "outputId": "36cad637-6446-483f-b074-4a6e93e77694",
        "colab": {
          "base_uri": "https://localhost:8080/",
          "height": 131
        }
      },
      "source": [
        "原始字符串是：Geeksforgeeks\n",
        "反向字符串（使用循環）是：skeegrofskeeG"
      ],
      "execution_count": null,
      "outputs": [
        {
          "output_type": "error",
          "ename": "SyntaxError",
          "evalue": "ignored",
          "traceback": [
            "\u001b[0;36m  File \u001b[0;32m\"<ipython-input-9-3e89d83c549d>\"\u001b[0;36m, line \u001b[0;32m1\u001b[0m\n\u001b[0;31m    原始字符串是：Geeksforgeeks\u001b[0m\n\u001b[0m                       ^\u001b[0m\n\u001b[0;31mSyntaxError\u001b[0m\u001b[0;31m:\u001b[0m invalid character in identifier\n"
          ]
        }
      ]
    },
    {
      "cell_type": "code",
      "metadata": {
        "id": "icU8zZeSpkdx",
        "outputId": "c32342e7-9a97-4852-f245-634856b0fd72",
        "colab": {
          "base_uri": "https://localhost:8080/",
          "height": 51
        }
      },
      "source": [
        "#使用遞歸\n",
        "# Python code to reverse a string  \n",
        "# using recursion \n",
        "  \n",
        "def reverse(s): \n",
        "    if len(s) == 0: \n",
        "        return s \n",
        "    else: \n",
        "        return reverse(s[1:]) + s[0] \n",
        "  \n",
        "s = \"Geeksforgeeks\"\n",
        "  \n",
        "print (\"The original string  is : \",end=\"\") \n",
        "print (s) \n",
        "  \n",
        "print (\"The reversed string(using recursion) is : \",end=\"\") \n",
        "print (reverse(s)) \n"
      ],
      "execution_count": null,
      "outputs": [
        {
          "output_type": "stream",
          "text": [
            "The original string  is : Geeksforgeeks\n",
            "The reversed string(using recursion) is : skeegrofskeeG\n"
          ],
          "name": "stdout"
        }
      ]
    },
    {
      "cell_type": "code",
      "metadata": {
        "id": "mqKq9a33pkqI",
        "outputId": "4d7dc36e-e337-4c79-c052-2d569857c58c",
        "colab": {
          "base_uri": "https://localhost:8080/",
          "height": 51
        }
      },
      "source": [
        "# Python code to reverse a string  \n",
        "# using extended slice syntax \n",
        "  \n",
        "# Function to reverse a string \n",
        "def reverse(string): \n",
        "    string = string[::-1] \n",
        "    return string \n",
        "  \n",
        "s = \"Geeksforgeeks\"\n",
        "  \n",
        "print (\"The original string  is : \",end=\"\") \n",
        "print (s) \n",
        "  \n",
        "print (\"The reversed string(using extended slice syntax) is : \",end=\"\") \n",
        "print (reverse(s)) "
      ],
      "execution_count": null,
      "outputs": [
        {
          "output_type": "stream",
          "text": [
            "The original string  is : Geeksforgeeks\n",
            "The reversed string(using extended slice syntax) is : skeegrofskeeG\n"
          ],
          "name": "stdout"
        }
      ]
    },
    {
      "cell_type": "code",
      "metadata": {
        "id": "5_RF2BYapqDJ",
        "outputId": "3175fdd3-843e-4bef-999e-d743440ceea0",
        "colab": {
          "base_uri": "https://localhost:8080/",
          "height": 51
        }
      },
      "source": [
        "# Python code to reverse a string  \n",
        "# using reversed() \n",
        "  \n",
        "# Function to reverse a string \n",
        "def reverse(string): \n",
        "    string = \"\".join(reversed(string)) \n",
        "    return string \n",
        "  \n",
        "s = \"Geeksforgeeks\"\n",
        "  \n",
        "print (\"The original string  is : \",end=\"\") \n",
        "print (s) \n",
        "  \n",
        "print (\"The reversed string(using reversed) is : \",end=\"\") \n",
        "print (reverse(s)) "
      ],
      "execution_count": null,
      "outputs": [
        {
          "output_type": "stream",
          "text": [
            "The original string  is : Geeksforgeeks\n",
            "The reversed string(using reversed) is : skeegrofskeeG\n"
          ],
          "name": "stdout"
        }
      ]
    },
    {
      "cell_type": "code",
      "metadata": {
        "id": "OQsMbl_ypuBg",
        "outputId": "a9d98b25-501c-4c1b-944b-3ac348be4b2a",
        "colab": {
          "base_uri": "https://localhost:8080/",
          "height": 51
        }
      },
      "source": [
        "def reverse(s): \n",
        "    if len(s) == 0: \n",
        "        return s \n",
        "    else: \n",
        "        return reverse(s[1:]) + s[0] \n",
        "  \n",
        "#s = \"HappyHackingDay\"\n",
        "s = \"BreakAllCTF{HappyHackingDay}\"\n",
        "\n",
        "print (\"The original string  is : \",end=\"\") \n",
        "print (s) \n",
        "  \n",
        "print (\"The reversed string(using recursion) is : \",end=\"\") \n",
        "print (reverse(s))"
      ],
      "execution_count": null,
      "outputs": [
        {
          "output_type": "stream",
          "text": [
            "The original string  is : BreakAllCTF{HappyHackingDay}\n",
            "The reversed string(using recursion) is : }yaDgnikcaHyppaH{FTCllAkaerB\n"
          ],
          "name": "stdout"
        }
      ]
    },
    {
      "cell_type": "code",
      "metadata": {
        "id": "8zrDq0YFpuNo",
        "outputId": "57565ecf-5acf-4d64-bc2c-860dbc2db92b",
        "colab": {
          "base_uri": "https://localhost:8080/",
          "height": 34
        }
      },
      "source": [
        "tr1='happy python day'\n",
        "str2='    Oh!   '\n",
        "str4=str1 + str2\n",
        "print(str4.capitalize())"
      ],
      "execution_count": null,
      "outputs": [
        {
          "output_type": "stream",
          "text": [
            "Happy python day    oh!   \n"
          ],
          "name": "stdout"
        }
      ]
    },
    {
      "cell_type": "code",
      "metadata": {
        "id": "AHn-ZHjOp3na"
      },
      "source": [
        "var1 = 'Hello World!'\n",
        "var2 = \"Python Programming\""
      ],
      "execution_count": null,
      "outputs": []
    },
    {
      "cell_type": "code",
      "metadata": {
        "id": "Y2qnVoJtp5KI",
        "outputId": "06be54f2-0140-4be4-a01e-fc3dff42e7a8",
        "colab": {
          "base_uri": "https://localhost:8080/",
          "height": 51
        }
      },
      "source": [
        "#!/usr/bin/python\n",
        "# -*- coding: UTF-8 -*-\n",
        " \n",
        "str = \"Python2019\"\n",
        "print(str.isalpha())\n",
        "\n",
        "str = \"Python\"\n",
        "print(str.isalpha())"
      ],
      "execution_count": null,
      "outputs": [
        {
          "output_type": "stream",
          "text": [
            "False\n",
            "True\n"
          ],
          "name": "stdout"
        }
      ]
    },
    {
      "cell_type": "code",
      "metadata": {
        "id": "031kfH6mp-XJ",
        "outputId": "821540ea-5244-4535-b98d-c1629f1f715a",
        "colab": {
          "base_uri": "https://localhost:8080/",
          "height": 85
        }
      },
      "source": [
        "#如果 string 至少有一個字元並且所有字元都是字母或數字則返回 True,否則返回 False\n",
        "#!/usr/bin/python\n",
        "# -*- coding: UTF-8 -*-\n",
        " \n",
        "str = \"Python2019\"\n",
        "print(str.isalnum())\n",
        "\n",
        "str = \"Python\"\n",
        "print(str.isalnum())\n",
        "\n",
        "str = \"2019\"\n",
        "print(str.isalnum())\n",
        "\n",
        "str = \"Python 2019\"\n",
        "print(str.isalnum())"
      ],
      "execution_count": null,
      "outputs": [
        {
          "output_type": "stream",
          "text": [
            "True\n",
            "True\n",
            "True\n",
            "False\n"
          ],
          "name": "stdout"
        }
      ]
    }
  ]
}